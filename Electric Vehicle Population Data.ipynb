{
 "cells": [
  {
   "cell_type": "code",
   "execution_count": 3,
   "id": "daa184b8",
   "metadata": {},
   "outputs": [],
   "source": [
    "import pandas as pd\n",
    "import numpy as np\n",
    "\n",
    "\n",
    "data = pd.read_csv(\"Electric_Vehicle_Population_Data.csv\")"
   ]
  },
  {
   "cell_type": "code",
   "execution_count": 4,
   "id": "cca45b4e",
   "metadata": {},
   "outputs": [
    {
     "name": "stdout",
     "output_type": "stream",
     "text": [
      "   VIN (1-10)    County      City State  Postal Code  Model Year   Make  \\\n",
      "0  5YJ3E1EB2J   Suffolk   Suffolk    VA      23435.0        2018  TESLA   \n",
      "1  5YJ3E1ECXL    Yakima    Yakima    WA      98908.0        2020  TESLA   \n",
      "2  WA1LAAGE7M    Yakima    Yakima    WA      98908.0        2021   AUDI   \n",
      "3  5YJ3E1EA1K  Danville  Danville    VA      24541.0        2019  TESLA   \n",
      "4  1FADP5CU9E   Norfolk   Norfolk    VA      23518.0        2014   FORD   \n",
      "\n",
      "     Model                   Electric Vehicle Type  \\\n",
      "0  MODEL 3          Battery Electric Vehicle (BEV)   \n",
      "1  MODEL 3          Battery Electric Vehicle (BEV)   \n",
      "2   E-TRON          Battery Electric Vehicle (BEV)   \n",
      "3  MODEL 3          Battery Electric Vehicle (BEV)   \n",
      "4    C-MAX  Plug-in Hybrid Electric Vehicle (PHEV)   \n",
      "\n",
      "  Clean Alternative Fuel Vehicle (CAFV) Eligibility  Electric Range  \\\n",
      "0           Clean Alternative Fuel Vehicle Eligible             215   \n",
      "1           Clean Alternative Fuel Vehicle Eligible             308   \n",
      "2           Clean Alternative Fuel Vehicle Eligible             222   \n",
      "3           Clean Alternative Fuel Vehicle Eligible             220   \n",
      "4             Not eligible due to low battery range              19   \n",
      "\n",
      "   Base MSRP  Legislative District  DOL Vehicle ID  \\\n",
      "0          0                   NaN       476647986   \n",
      "1          0                  14.0       103490145   \n",
      "2          0                  14.0       144941534   \n",
      "3          0                   NaN       168513922   \n",
      "4          0                   NaN       150749378   \n",
      "\n",
      "              Vehicle Location Electric Utility  2020 Census Tract  \n",
      "0    POINT (-76.42443 36.8752)              NaN       5.180008e+10  \n",
      "1  POINT (-120.56916 46.58514)       PACIFICORP       5.307700e+10  \n",
      "2  POINT (-120.56916 46.58514)       PACIFICORP       5.307700e+10  \n",
      "3    POINT (-79.4172 36.58598)              NaN       5.159000e+10  \n",
      "4   POINT (-76.21549 36.92478)              NaN       5.171001e+10  \n"
     ]
    }
   ],
   "source": [
    "print(data.head())"
   ]
  },
  {
   "cell_type": "code",
   "execution_count": 5,
   "id": "20996e4b",
   "metadata": {},
   "outputs": [],
   "source": [
    "counts = data[data['Make'] == 'TESLA'].groupby(['City', 'Make']).size().reset_index(name='Count')"
   ]
  },
  {
   "cell_type": "code",
   "execution_count": 6,
   "id": "375ef4ad",
   "metadata": {},
   "outputs": [],
   "source": [
    "counts = counts.sort_values(by='Count', ascending=False)"
   ]
  },
  {
   "cell_type": "code",
   "execution_count": 7,
   "id": "87e09452",
   "metadata": {},
   "outputs": [
    {
     "name": "stdout",
     "output_type": "stream",
     "text": [
      "The city with the highest number of Teslas is Seattle with 9209 Teslas.\n"
     ]
    }
   ],
   "source": [
    "print('The city with the highest number of Teslas is', counts.iloc[0]['City'], 'with', counts.iloc[0]['Count'], 'Teslas.')\n"
   ]
  },
  {
   "cell_type": "code",
   "execution_count": 8,
   "id": "e5c132a6",
   "metadata": {},
   "outputs": [],
   "source": [
    "counts = data.groupby(['City', 'Model']).size().reset_index(name='Count')"
   ]
  },
  {
   "cell_type": "code",
   "execution_count": 9,
   "id": "35e30e48",
   "metadata": {},
   "outputs": [],
   "source": [
    "counts = counts.sort_values(by='Count', ascending=False)"
   ]
  },
  {
   "cell_type": "code",
   "execution_count": 10,
   "id": "1273a487",
   "metadata": {},
   "outputs": [
    {
     "name": "stdout",
     "output_type": "stream",
     "text": [
      "The city with the most similar models is Seattle with 4333 vehicles of the MODEL 3 model.\n"
     ]
    }
   ],
   "source": [
    "print('The city with the most similar models is', counts.iloc[0]['City'], 'with', counts.iloc[0]['Count'], 'vehicles of the', counts.iloc[0]['Model'], 'model.')"
   ]
  },
  {
   "cell_type": "code",
   "execution_count": null,
   "id": "fdc695c0",
   "metadata": {},
   "outputs": [],
   "source": []
  }
 ],
 "metadata": {
  "kernelspec": {
   "display_name": "Python 3 (ipykernel)",
   "language": "python",
   "name": "python3"
  },
  "language_info": {
   "codemirror_mode": {
    "name": "ipython",
    "version": 3
   },
   "file_extension": ".py",
   "mimetype": "text/x-python",
   "name": "python",
   "nbconvert_exporter": "python",
   "pygments_lexer": "ipython3",
   "version": "3.9.13"
  }
 },
 "nbformat": 4,
 "nbformat_minor": 5
}
